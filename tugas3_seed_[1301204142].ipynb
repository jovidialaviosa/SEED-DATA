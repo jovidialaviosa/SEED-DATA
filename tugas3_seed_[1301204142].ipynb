{
  "cells": [
    {
      "cell_type": "markdown",
      "metadata": {
        "id": "view-in-github",
        "colab_type": "text"
      },
      "source": [
        "<a href=\"https://colab.research.google.com/github/jovidialaviosa/SEED-DATA/blob/main/tugas3_seed_%5B1301204142%5D.ipynb\" target=\"_parent\"><img src=\"https://colab.research.google.com/assets/colab-badge.svg\" alt=\"Open In Colab\"/></a>"
      ]
    },
    {
      "cell_type": "code",
      "execution_count": null,
      "metadata": {
        "colab": {
          "base_uri": "https://localhost:8080/"
        },
        "id": "jOOQhMHXJHH-",
        "outputId": "45fff80a-c380-48f3-bccb-02d54ffb0db9"
      },
      "outputs": [
        {
          "output_type": "stream",
          "name": "stdout",
          "text": [
            "Looking in indexes: https://pypi.org/simple, https://us-python.pkg.dev/colab-wheels/public/simple/\n",
            "Requirement already satisfied: pandas in /usr/local/lib/python3.8/dist-packages (1.3.5)\n",
            "Requirement already satisfied: python-dateutil>=2.7.3 in /usr/local/lib/python3.8/dist-packages (from pandas) (2.8.2)\n",
            "Requirement already satisfied: pytz>=2017.3 in /usr/local/lib/python3.8/dist-packages (from pandas) (2022.6)\n",
            "Requirement already satisfied: numpy>=1.17.3 in /usr/local/lib/python3.8/dist-packages (from pandas) (1.21.6)\n",
            "Requirement already satisfied: six>=1.5 in /usr/local/lib/python3.8/dist-packages (from python-dateutil>=2.7.3->pandas) (1.15.0)\n",
            "Looking in indexes: https://pypi.org/simple, https://us-python.pkg.dev/colab-wheels/public/simple/\n",
            "Requirement already satisfied: scikit-learn in /usr/local/lib/python3.8/dist-packages (1.0.2)\n",
            "Requirement already satisfied: joblib>=0.11 in /usr/local/lib/python3.8/dist-packages (from scikit-learn) (1.2.0)\n",
            "Requirement already satisfied: numpy>=1.14.6 in /usr/local/lib/python3.8/dist-packages (from scikit-learn) (1.21.6)\n",
            "Requirement already satisfied: threadpoolctl>=2.0.0 in /usr/local/lib/python3.8/dist-packages (from scikit-learn) (3.1.0)\n",
            "Requirement already satisfied: scipy>=1.1.0 in /usr/local/lib/python3.8/dist-packages (from scikit-learn) (1.7.3)\n"
          ]
        }
      ],
      "source": [
        "!pip install pandas\n",
        "!pip install scikit-learn"
      ]
    },
    {
      "cell_type": "code",
      "execution_count": null,
      "metadata": {
        "id": "SsYrZLh7JHJQ"
      },
      "outputs": [],
      "source": [
        "## Isi nama dan NIM seluruh anggota kelompok di sini\n",
        "#   Jovidia Laviosa    1301204142\n",
        "#   Dian Ramadhini     1301200254\n",
        "#   Diva Annisa Febecca 1301204302\n",
        "#   Muhammad Rafiqi Masrur 1301200428\n",
        "#   \n",
        "#   \n",
        "#   "
      ]
    },
    {
      "cell_type": "code",
      "execution_count": null,
      "metadata": {
        "id": "z81Wdi0iJHJi"
      },
      "outputs": [],
      "source": [
        "import numpy as np\n",
        "import pandas as pd\n",
        "from sklearn.model_selection import train_test_split\n",
        "from sklearn import tree\n"
      ]
    },
    {
      "cell_type": "markdown",
      "metadata": {
        "id": "JFBKjBbyJHJt"
      },
      "source": [
        "# Load Dataset\n",
        "Inisialisasi variable, masukan NIM di sini untuk random state.\n",
        "\n",
        "Gunakan NIM salah satu anggota kelompok.\n",
        "\n"
      ]
    },
    {
      "cell_type": "code",
      "execution_count": null,
      "metadata": {
        "id": "6sSTT7YYJHKD"
      },
      "outputs": [],
      "source": [
        "filepath = \"./seeds_dataset.csv\"\n",
        "\n",
        "# Isi nim anda di sini\n",
        "nim = 1301204142 "
      ]
    },
    {
      "cell_type": "markdown",
      "metadata": {
        "id": "Z2NycA7zJHKQ"
      },
      "source": [
        "Load dataset, cek konten data\n",
        "\n",
        "Target kelas: **Category** "
      ]
    },
    {
      "cell_type": "code",
      "execution_count": null,
      "metadata": {
        "colab": {
          "base_uri": "https://localhost:8080/",
          "height": 363
        },
        "id": "kd9pEgpoJHKU",
        "outputId": "8369ab8d-3922-4a29-908b-1af4ce474e99"
      },
      "outputs": [
        {
          "output_type": "execute_result",
          "data": {
            "text/plain": [
              "      Area  Perimeter  Compactness  Kernel_len  Kernel_width  Assymetry  \\\n",
              "0    15.26      14.84       0.8710       5.763         3.312     2.2210   \n",
              "154  11.36      13.05       0.8382       5.175         2.755     4.0480   \n",
              "130  18.30      15.89       0.9108       5.979         3.755     2.8370   \n",
              "205  12.19      13.20       0.8783       5.137         2.981     3.6310   \n",
              "29   13.45      14.02       0.8604       5.516         3.065     3.5310   \n",
              "121  18.14      16.12       0.8772       6.059         3.563     3.6190   \n",
              "134  15.56      14.89       0.8823       5.776         3.408     4.9720   \n",
              "174  10.83      12.96       0.8099       5.278         2.641     5.1820   \n",
              "166  12.44      13.59       0.8462       5.319         2.897     4.9240   \n",
              "30   13.16      13.82       0.8662       5.454         2.975     0.8551   \n",
              "\n",
              "     Groove_len  Category  \n",
              "0         5.220         1  \n",
              "154       5.263         3  \n",
              "130       5.962         2  \n",
              "205       4.870         3  \n",
              "29        5.097         1  \n",
              "121       6.011         2  \n",
              "134       5.847         2  \n",
              "174       5.185         3  \n",
              "166       5.270         3  \n",
              "30        5.056         1  "
            ],
            "text/html": [
              "\n",
              "  <div id=\"df-c1274eb1-9080-4a30-bc7e-f554d1bde4e4\">\n",
              "    <div class=\"colab-df-container\">\n",
              "      <div>\n",
              "<style scoped>\n",
              "    .dataframe tbody tr th:only-of-type {\n",
              "        vertical-align: middle;\n",
              "    }\n",
              "\n",
              "    .dataframe tbody tr th {\n",
              "        vertical-align: top;\n",
              "    }\n",
              "\n",
              "    .dataframe thead th {\n",
              "        text-align: right;\n",
              "    }\n",
              "</style>\n",
              "<table border=\"1\" class=\"dataframe\">\n",
              "  <thead>\n",
              "    <tr style=\"text-align: right;\">\n",
              "      <th></th>\n",
              "      <th>Area</th>\n",
              "      <th>Perimeter</th>\n",
              "      <th>Compactness</th>\n",
              "      <th>Kernel_len</th>\n",
              "      <th>Kernel_width</th>\n",
              "      <th>Assymetry</th>\n",
              "      <th>Groove_len</th>\n",
              "      <th>Category</th>\n",
              "    </tr>\n",
              "  </thead>\n",
              "  <tbody>\n",
              "    <tr>\n",
              "      <th>0</th>\n",
              "      <td>15.26</td>\n",
              "      <td>14.84</td>\n",
              "      <td>0.8710</td>\n",
              "      <td>5.763</td>\n",
              "      <td>3.312</td>\n",
              "      <td>2.2210</td>\n",
              "      <td>5.220</td>\n",
              "      <td>1</td>\n",
              "    </tr>\n",
              "    <tr>\n",
              "      <th>154</th>\n",
              "      <td>11.36</td>\n",
              "      <td>13.05</td>\n",
              "      <td>0.8382</td>\n",
              "      <td>5.175</td>\n",
              "      <td>2.755</td>\n",
              "      <td>4.0480</td>\n",
              "      <td>5.263</td>\n",
              "      <td>3</td>\n",
              "    </tr>\n",
              "    <tr>\n",
              "      <th>130</th>\n",
              "      <td>18.30</td>\n",
              "      <td>15.89</td>\n",
              "      <td>0.9108</td>\n",
              "      <td>5.979</td>\n",
              "      <td>3.755</td>\n",
              "      <td>2.8370</td>\n",
              "      <td>5.962</td>\n",
              "      <td>2</td>\n",
              "    </tr>\n",
              "    <tr>\n",
              "      <th>205</th>\n",
              "      <td>12.19</td>\n",
              "      <td>13.20</td>\n",
              "      <td>0.8783</td>\n",
              "      <td>5.137</td>\n",
              "      <td>2.981</td>\n",
              "      <td>3.6310</td>\n",
              "      <td>4.870</td>\n",
              "      <td>3</td>\n",
              "    </tr>\n",
              "    <tr>\n",
              "      <th>29</th>\n",
              "      <td>13.45</td>\n",
              "      <td>14.02</td>\n",
              "      <td>0.8604</td>\n",
              "      <td>5.516</td>\n",
              "      <td>3.065</td>\n",
              "      <td>3.5310</td>\n",
              "      <td>5.097</td>\n",
              "      <td>1</td>\n",
              "    </tr>\n",
              "    <tr>\n",
              "      <th>121</th>\n",
              "      <td>18.14</td>\n",
              "      <td>16.12</td>\n",
              "      <td>0.8772</td>\n",
              "      <td>6.059</td>\n",
              "      <td>3.563</td>\n",
              "      <td>3.6190</td>\n",
              "      <td>6.011</td>\n",
              "      <td>2</td>\n",
              "    </tr>\n",
              "    <tr>\n",
              "      <th>134</th>\n",
              "      <td>15.56</td>\n",
              "      <td>14.89</td>\n",
              "      <td>0.8823</td>\n",
              "      <td>5.776</td>\n",
              "      <td>3.408</td>\n",
              "      <td>4.9720</td>\n",
              "      <td>5.847</td>\n",
              "      <td>2</td>\n",
              "    </tr>\n",
              "    <tr>\n",
              "      <th>174</th>\n",
              "      <td>10.83</td>\n",
              "      <td>12.96</td>\n",
              "      <td>0.8099</td>\n",
              "      <td>5.278</td>\n",
              "      <td>2.641</td>\n",
              "      <td>5.1820</td>\n",
              "      <td>5.185</td>\n",
              "      <td>3</td>\n",
              "    </tr>\n",
              "    <tr>\n",
              "      <th>166</th>\n",
              "      <td>12.44</td>\n",
              "      <td>13.59</td>\n",
              "      <td>0.8462</td>\n",
              "      <td>5.319</td>\n",
              "      <td>2.897</td>\n",
              "      <td>4.9240</td>\n",
              "      <td>5.270</td>\n",
              "      <td>3</td>\n",
              "    </tr>\n",
              "    <tr>\n",
              "      <th>30</th>\n",
              "      <td>13.16</td>\n",
              "      <td>13.82</td>\n",
              "      <td>0.8662</td>\n",
              "      <td>5.454</td>\n",
              "      <td>2.975</td>\n",
              "      <td>0.8551</td>\n",
              "      <td>5.056</td>\n",
              "      <td>1</td>\n",
              "    </tr>\n",
              "  </tbody>\n",
              "</table>\n",
              "</div>\n",
              "      <button class=\"colab-df-convert\" onclick=\"convertToInteractive('df-c1274eb1-9080-4a30-bc7e-f554d1bde4e4')\"\n",
              "              title=\"Convert this dataframe to an interactive table.\"\n",
              "              style=\"display:none;\">\n",
              "        \n",
              "  <svg xmlns=\"http://www.w3.org/2000/svg\" height=\"24px\"viewBox=\"0 0 24 24\"\n",
              "       width=\"24px\">\n",
              "    <path d=\"M0 0h24v24H0V0z\" fill=\"none\"/>\n",
              "    <path d=\"M18.56 5.44l.94 2.06.94-2.06 2.06-.94-2.06-.94-.94-2.06-.94 2.06-2.06.94zm-11 1L8.5 8.5l.94-2.06 2.06-.94-2.06-.94L8.5 2.5l-.94 2.06-2.06.94zm10 10l.94 2.06.94-2.06 2.06-.94-2.06-.94-.94-2.06-.94 2.06-2.06.94z\"/><path d=\"M17.41 7.96l-1.37-1.37c-.4-.4-.92-.59-1.43-.59-.52 0-1.04.2-1.43.59L10.3 9.45l-7.72 7.72c-.78.78-.78 2.05 0 2.83L4 21.41c.39.39.9.59 1.41.59.51 0 1.02-.2 1.41-.59l7.78-7.78 2.81-2.81c.8-.78.8-2.07 0-2.86zM5.41 20L4 18.59l7.72-7.72 1.47 1.35L5.41 20z\"/>\n",
              "  </svg>\n",
              "      </button>\n",
              "      \n",
              "  <style>\n",
              "    .colab-df-container {\n",
              "      display:flex;\n",
              "      flex-wrap:wrap;\n",
              "      gap: 12px;\n",
              "    }\n",
              "\n",
              "    .colab-df-convert {\n",
              "      background-color: #E8F0FE;\n",
              "      border: none;\n",
              "      border-radius: 50%;\n",
              "      cursor: pointer;\n",
              "      display: none;\n",
              "      fill: #1967D2;\n",
              "      height: 32px;\n",
              "      padding: 0 0 0 0;\n",
              "      width: 32px;\n",
              "    }\n",
              "\n",
              "    .colab-df-convert:hover {\n",
              "      background-color: #E2EBFA;\n",
              "      box-shadow: 0px 1px 2px rgba(60, 64, 67, 0.3), 0px 1px 3px 1px rgba(60, 64, 67, 0.15);\n",
              "      fill: #174EA6;\n",
              "    }\n",
              "\n",
              "    [theme=dark] .colab-df-convert {\n",
              "      background-color: #3B4455;\n",
              "      fill: #D2E3FC;\n",
              "    }\n",
              "\n",
              "    [theme=dark] .colab-df-convert:hover {\n",
              "      background-color: #434B5C;\n",
              "      box-shadow: 0px 1px 3px 1px rgba(0, 0, 0, 0.15);\n",
              "      filter: drop-shadow(0px 1px 2px rgba(0, 0, 0, 0.3));\n",
              "      fill: #FFFFFF;\n",
              "    }\n",
              "  </style>\n",
              "\n",
              "      <script>\n",
              "        const buttonEl =\n",
              "          document.querySelector('#df-c1274eb1-9080-4a30-bc7e-f554d1bde4e4 button.colab-df-convert');\n",
              "        buttonEl.style.display =\n",
              "          google.colab.kernel.accessAllowed ? 'block' : 'none';\n",
              "\n",
              "        async function convertToInteractive(key) {\n",
              "          const element = document.querySelector('#df-c1274eb1-9080-4a30-bc7e-f554d1bde4e4');\n",
              "          const dataTable =\n",
              "            await google.colab.kernel.invokeFunction('convertToInteractive',\n",
              "                                                     [key], {});\n",
              "          if (!dataTable) return;\n",
              "\n",
              "          const docLinkHtml = 'Like what you see? Visit the ' +\n",
              "            '<a target=\"_blank\" href=https://colab.research.google.com/notebooks/data_table.ipynb>data table notebook</a>'\n",
              "            + ' to learn more about interactive tables.';\n",
              "          element.innerHTML = '';\n",
              "          dataTable['output_type'] = 'display_data';\n",
              "          await google.colab.output.renderOutput(dataTable, element);\n",
              "          const docLink = document.createElement('div');\n",
              "          docLink.innerHTML = docLinkHtml;\n",
              "          element.appendChild(docLink);\n",
              "        }\n",
              "      </script>\n",
              "    </div>\n",
              "  </div>\n",
              "  "
            ]
          },
          "metadata": {},
          "execution_count": 5
        }
      ],
      "source": [
        "df = pd.read_csv(filepath, sep=\"\\t\")\n",
        "df.sample(10, random_state=nim)"
      ]
    },
    {
      "cell_type": "markdown",
      "metadata": {
        "id": "p3FziT3yJHKZ"
      },
      "source": [
        "Training/test split **60/40**"
      ]
    },
    {
      "cell_type": "code",
      "execution_count": null,
      "metadata": {
        "colab": {
          "base_uri": "https://localhost:8080/"
        },
        "id": "OPycpWaUJHKi",
        "outputId": "2924f91d-a04e-484f-b208-6b37567cbf50"
      },
      "outputs": [
        {
          "output_type": "execute_result",
          "data": {
            "text/plain": [
              "(126, 84)"
            ]
          },
          "metadata": {},
          "execution_count": 27
        }
      ],
      "source": [
        "# X: semua kolom, Y: kolom terakhir (category)\n",
        "x = df.iloc[:, :-1]\n",
        "y = df.iloc[:, -1]\n",
        "x_train, x_test, y_train, y_test = train_test_split(x, y, train_size=0.6, random_state=nim)\n",
        "\n",
        "len(x_train), len(x_test)"
      ]
    },
    {
      "cell_type": "markdown",
      "metadata": {
        "id": "BVm8KXHwJHKq"
      },
      "source": [
        "# Random Forest\n",
        "Build a Random Forest, consisting of 20 Decision Tree classifer, with the following steps:\n",
        "\n",
        "1. Prepare Bootstrap data (choose randomly from the *training data*, use sampling with replacement)\n",
        "2. Choose 2-4 random features/atributes for each tree\n",
        "3. Build Decision Tree classifier using step (1) and (2)\n",
        "4. Calculate OOB score within the tree only\n",
        "\n",
        "**NOTE**\n",
        "This whole exercise has been simplified.\n",
        "- Tree can be created using a library, therefore you may not be able control the feature selection on node level\n",
        "- Random features are only selected in the beginning of each tree.\n",
        "- OOB score is only calculated within its own tree instead.\n",
        "- Typically Random Forest don't use train/test split and can be validated using OOB error. We simplify this to make it easier to test.\n",
        "- You are not allowed to use a Random Forest or Bagging library.\n"
      ]
    },
    {
      "cell_type": "code",
      "execution_count": null,
      "metadata": {
        "id": "rlkiQhPkJHK0",
        "colab": {
          "base_uri": "https://localhost:8080/"
        },
        "outputId": "94598fad-0123-4fde-dc25-fdfcf426732e"
      },
      "outputs": [
        {
          "output_type": "stream",
          "name": "stdout",
          "text": [
            "Tree 0, 51 data, oob score: 0.8431372549019608\n",
            "Tree 1, 50 data, oob score: 0.94\n",
            "Tree 2, 54 data, oob score: 0.9074074074074074\n",
            "Tree 3, 49 data, oob score: 0.8571428571428571\n",
            "Tree 4, 40 data, oob score: 0.925\n",
            "Tree 5, 52 data, oob score: 0.7692307692307693\n",
            "Tree 6, 42 data, oob score: 0.8571428571428571\n",
            "Tree 7, 41 data, oob score: 0.8292682926829268\n",
            "Tree 8, 51 data, oob score: 0.9803921568627451\n",
            "Tree 9, 47 data, oob score: 0.7872340425531915\n",
            "Tree 10, 42 data, oob score: 0.9047619047619048\n",
            "Tree 11, 50 data, oob score: 0.92\n",
            "Tree 12, 47 data, oob score: 0.9148936170212766\n",
            "Tree 13, 43 data, oob score: 0.7441860465116279\n",
            "Tree 14, 46 data, oob score: 0.8260869565217391\n",
            "Tree 15, 47 data, oob score: 0.574468085106383\n",
            "Tree 16, 42 data, oob score: 0.8571428571428571\n",
            "Tree 17, 47 data, oob score: 0.8085106382978723\n",
            "Tree 18, 47 data, oob score: 0.48936170212765956\n",
            "Tree 19, 54 data, oob score: 0.8518518518518519\n"
          ]
        }
      ],
      "source": [
        "np.random.seed(nim)\n",
        "n_tree = 20\n",
        "\n",
        "forest = []\n",
        "bootstrap_columns = []\n",
        "for i in range(n_tree):\n",
        "    # 1. Bootstrapping\n",
        "    # select random rows\n",
        "    rows = np.random.choice(x_train.index, size=len(x_train), replace=True)\n",
        "    x_bootstrap = x_train.loc[rows]\n",
        "    y_bootstrap = y_train.loc[rows]\n",
        "\n",
        "    # Out of Bag data\n",
        "    non_selected_rows = np.setdiff1d(x_train.index, rows)\n",
        "    x_oob = x_train.loc[non_selected_rows]\n",
        "    y_oob = y_train.loc[non_selected_rows]\n",
        "\n",
        "    # 2. Select random features (make sure to keep track the selected columns)\n",
        "    # Check for any repeated combinations\n",
        "    feature_taken = np.random.randint(2, 4)\n",
        "    cols = np.random.choice(x_bootstrap.columns, size=feature_taken, replace=True)\n",
        "    bootstrap_columns.append(cols)\n",
        "\n",
        "    # filter based on the selected columns\n",
        "    x_bootstrap = x_bootstrap.loc[:, cols]\n",
        "\n",
        "    # 3. Build decision tree\n",
        "    # Let it grow, no pruning\n",
        "    tree_model = tree_model = tree.DecisionTreeClassifier()\n",
        "    tree_model.fit(x_bootstrap, y_bootstrap)\n",
        "\n",
        "    # Add it to the forest\n",
        "    forest.append(tree_model)\n",
        "\n",
        "    # 4. Calculate oob score only within its own tree\n",
        "    oob_predict = tree_model.predict(x_oob.loc[:, cols])\n",
        "    oob_score   = tree_model.score(x_oob.loc[:, cols], y_oob)\n",
        "    print(f\"Tree {i}, {len(x_oob)} data, oob score: {oob_score}\")"
      ]
    },
    {
      "cell_type": "markdown",
      "metadata": {
        "id": "yqWg_RhUJHK8"
      },
      "source": [
        "# Prediction and Voting\n",
        "Run prediction on x_test data for each tree\n",
        "\n",
        "Also calculate accuracy per tree here"
      ]
    },
    {
      "cell_type": "code",
      "execution_count": null,
      "metadata": {
        "id": "6o9dW7b6JHLE",
        "colab": {
          "base_uri": "https://localhost:8080/"
        },
        "outputId": "f93a5bd4-3796-4360-b184-2acad931b097"
      },
      "outputs": [
        {
          "output_type": "stream",
          "name": "stdout",
          "text": [
            "0.7738095238095238\n",
            "0.9404761904761905\n",
            "0.8095238095238095\n",
            "0.7738095238095238\n",
            "0.9166666666666666\n",
            "0.8095238095238095\n",
            "0.8571428571428571\n",
            "0.8452380952380952\n",
            "0.8809523809523809\n",
            "0.7619047619047619\n",
            "0.8214285714285714\n",
            "0.8690476190476191\n",
            "0.8333333333333334\n",
            "0.8333333333333334\n",
            "0.8452380952380952\n",
            "0.5238095238095238\n",
            "0.8928571428571429\n",
            "0.8333333333333334\n",
            "0.36904761904761907\n",
            "0.8690476190476191\n"
          ]
        }
      ],
      "source": [
        "all_preds = []\n",
        "for i, tree_model in enumerate(forest):\n",
        "    # Each tree has different column requirements\n",
        "    # Make sure you use the correct columns for each tree\n",
        "    x_test_filtered = x_test.loc[:, bootstrap_columns[i]]\n",
        "\n",
        "    predictions = tree_model.predict(x_test_filtered)\n",
        "\n",
        "    # Might as well calculate accuracy per tree here...\n",
        "\n",
        "    acc = tree_model.score(x_test_filtered, y_test)\n",
        "    print(acc)\n",
        "\n",
        "    # add it to all_preds for voting later\n",
        "    all_preds.append(predictions)\n",
        "\n",
        "all_preds = np.array(all_preds)"
      ]
    },
    {
      "cell_type": "code",
      "source": [
        "for _ in bootstrap_columns:\n",
        "    print(*_, sep=\", \")"
      ],
      "metadata": {
        "colab": {
          "base_uri": "https://localhost:8080/"
        },
        "id": "ll_vF34DrHWn",
        "outputId": "1bd90d82-9ee3-4ec8-958f-0c0dd97935a1"
      },
      "execution_count": null,
      "outputs": [
        {
          "output_type": "stream",
          "name": "stdout",
          "text": [
            "Kernel_len, Perimeter\n",
            "Perimeter, Perimeter, Groove_len\n",
            "Compactness, Perimeter\n",
            "Groove_len, Groove_len, Assymetry\n",
            "Kernel_len, Groove_len, Perimeter\n",
            "Area, Compactness, Perimeter\n",
            "Perimeter, Area, Area\n",
            "Perimeter, Kernel_len, Assymetry\n",
            "Groove_len, Area, Kernel_len\n",
            "Kernel_len, Kernel_len, Kernel_width\n",
            "Kernel_width, Groove_len\n",
            "Groove_len, Kernel_width, Area\n",
            "Kernel_width, Groove_len, Kernel_width\n",
            "Kernel_len, Kernel_len, Kernel_width\n",
            "Area, Perimeter, Perimeter\n",
            "Assymetry, Compactness\n",
            "Area, Assymetry\n",
            "Compactness, Area, Assymetry\n",
            "Assymetry, Assymetry\n",
            "Assymetry, Perimeter\n"
          ]
        }
      ]
    },
    {
      "cell_type": "markdown",
      "metadata": {
        "id": "GyMh7xe1JHLH"
      },
      "source": [
        "### Perform voting on the predictions from the Random Forest"
      ]
    },
    {
      "cell_type": "code",
      "execution_count": null,
      "metadata": {
        "id": "Vah4mvBqJHLK",
        "colab": {
          "base_uri": "https://localhost:8080/"
        },
        "outputId": "38580ef1-0524-4d60-f263-bcd2816262f5"
      },
      "outputs": [
        {
          "output_type": "stream",
          "name": "stdout",
          "text": [
            "[1 3 2 3 1 2 2 3 3 1 2 1 2 2 2 3 3 1 1 3 1 1 3 2 2 1 2 3 2 2 2 1 1 1 1 3 3\n",
            " 2 3 1 3 3 3 2 2 2 2 1 1 3 3 1 1 3 3 3 1 2 1 3 2 2 3 2 3 1 2 2 3 1 1 3 1 2\n",
            " 1 1 3 1 2 1 3 2 1 2]\n",
            "91.66666666666666 %\n"
          ]
        }
      ],
      "source": [
        "# Insert voting code here\n",
        "# ...\n",
        "# ...\n",
        "#  \n",
        "voted_predictions = np.array([np.bincount(pred).argmax() for pred in all_preds.T])\n",
        "print(voted_predictions)\n",
        "\n",
        "# Calculate accuracy of Test data on the Forest\n",
        "acc = np.sum(voted_predictions == y_test) / len(y_test) *100\n",
        "print(acc, \"%\")\n",
        "\n",
        "\n"
      ]
    },
    {
      "cell_type": "code",
      "source": [
        "df.to_excel(\"seeds_data.xls\", index=False)"
      ],
      "metadata": {
        "colab": {
          "base_uri": "https://localhost:8080/"
        },
        "id": "RutQJNUMrqjO",
        "outputId": "b0dc39bd-afe1-4829-ed1f-81abc75ecac5"
      },
      "execution_count": null,
      "outputs": [
        {
          "output_type": "stream",
          "name": "stderr",
          "text": [
            "<ipython-input-35-7a589e1d9919>:1: FutureWarning: As the xlwt package is no longer maintained, the xlwt engine will be removed in a future version of pandas. This is the only engine in pandas that supports writing in the xls format. Install openpyxl and write to an xlsx file instead. You can set the option io.excel.xls.writer to 'xlwt' to silence this warning. While this option is deprecated and will also raise a warning, it can be globally set and the warning suppressed.\n",
            "  df.to_excel(\"seeds_data.xls\", index=False)\n"
          ]
        }
      ]
    },
    {
      "cell_type": "markdown",
      "metadata": {
        "id": "QpGElwyoJHLN"
      },
      "source": [
        "After you're done with all this, please check the excel file and put the answers for every column there."
      ]
    }
  ],
  "metadata": {
    "kernelspec": {
      "display_name": "Python 3.10.8 ('tugas3')",
      "language": "python",
      "name": "python3"
    },
    "language_info": {
      "codemirror_mode": {
        "name": "ipython",
        "version": 3
      },
      "file_extension": ".py",
      "mimetype": "text/x-python",
      "name": "python",
      "nbconvert_exporter": "python",
      "pygments_lexer": "ipython3",
      "version": "3.10.8"
    },
    "orig_nbformat": 4,
    "vscode": {
      "interpreter": {
        "hash": "486ee4d26de12a9ebc4c044e4309648e10037d9316726c9d112e2ad4a1fad8b4"
      }
    },
    "colab": {
      "provenance": [],
      "include_colab_link": true
    }
  },
  "nbformat": 4,
  "nbformat_minor": 0
}